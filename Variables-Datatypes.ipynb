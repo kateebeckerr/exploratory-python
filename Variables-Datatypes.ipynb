{
 "cells": [
  {
   "cell_type": "code",
   "execution_count": 2,
   "metadata": {},
   "outputs": [
    {
     "name": "stdout",
     "output_type": "stream",
     "text": [
      "Hey hey\n",
      "I want to go snowbaording\n"
     ]
    }
   ],
   "source": [
    "message = \"Hey hey\"\n",
    "print(message)\n",
    "# here we added a variable named message and every variable is connected to a value \n",
    "\n",
    "message = \"I want to go snowbaording\"\n",
    "print(message)\n",
    "# you can change the value of your variable at any time and python will keep track of it "
   ]
  },
  {
   "cell_type": "markdown",
   "metadata": {},
   "source": [
    "Naming and Using Variables\n",
    "- variable names can contain only letters, numbers, and underscores\n",
    "- they can start with a letter or underscore but not with a number"
   ]
  },
  {
   "cell_type": "markdown",
   "metadata": {},
   "source": [
    "Creating an error"
   ]
  },
  {
   "cell_type": "code",
   "execution_count": 3,
   "metadata": {},
   "outputs": [
    {
     "ename": "NameError",
     "evalue": "name 'mesage' is not defined",
     "output_type": "error",
     "traceback": [
      "\u001b[0;31m---------------------------------------------------------------------------\u001b[0m",
      "\u001b[0;31mNameError\u001b[0m                                 Traceback (most recent call last)",
      "Cell \u001b[0;32mIn[3], line 2\u001b[0m\n\u001b[1;32m      1\u001b[0m message \u001b[39m=\u001b[39m \u001b[39m\"\u001b[39m\u001b[39mHey Laur!\u001b[39m\u001b[39m\"\u001b[39m\n\u001b[0;32m----> 2\u001b[0m \u001b[39mprint\u001b[39m(mesage)\n",
      "\u001b[0;31mNameError\u001b[0m: name 'mesage' is not defined"
     ]
    }
   ],
   "source": [
    "message = \"Hey Laur!\"\n",
    "print(mesage)\n",
    "\n",
    "#the output at 1 reports that an error occured in line 2 and tells us what error was found\n",
    "# reports a name error: means we forgot to set a variables value before it or we made a spelling mistake "
   ]
  },
  {
   "cell_type": "markdown",
   "metadata": {},
   "source": [
    "Variables and Labels \n",
    "\n",
    "Variables: boxes in which you can store values in\n",
    "\n",
    "Practice: assign a message to a variable and print the mean then assign a new message to the variable "
   ]
  },
  {
   "cell_type": "code",
   "execution_count": 6,
   "metadata": {},
   "outputs": [
    {
     "name": "stdout",
     "output_type": "stream",
     "text": [
      "I work from 3 to 8\n"
     ]
    },
    {
     "data": {
      "text/plain": [
       "'Today I work from 3 to 8'"
      ]
     },
     "execution_count": 6,
     "metadata": {},
     "output_type": "execute_result"
    }
   ],
   "source": [
    "print(\"I work from 3 to 8\")\n",
    "var = \"I work from 3 to 8\"\n",
    "var = \"Today I work from 3 to 8\"\n",
    "var"
   ]
  },
  {
   "cell_type": "markdown",
   "metadata": {},
   "source": [
    "Strings:\n",
    "\n",
    " a series of characters, anything inside quots is considered a string and you can use single or double quotes \n",
    "\"This is a string\"\n",
    "'This is also a string'\n",
    "'Python, \"is a great language\"'\n",
    "\n",
    "Changing case:"
   ]
  },
  {
   "cell_type": "code",
   "execution_count": 8,
   "metadata": {},
   "outputs": [
    {
     "name": "stdout",
     "output_type": "stream",
     "text": [
      "Ada Lovelace\n",
      "ADA LOVELACE\n",
      "ada lovelace\n"
     ]
    }
   ],
   "source": [
    "name = \"ada lovelace\"\n",
    "print(name.title())\n",
    "# the method title() appears after the variable in the print(), a method is an action that python can perform on a piece of data, the (.) after the variable tells python to perform the title() action on that variable,\n",
    "# title() needs no additioanl info so it remains empty\n",
    "# title() changes the first letter of each word to title case where each word begins with a capital letter \n",
    "\n",
    "print(name.upper())\n",
    "print(name.lower()) #great for storing data "
   ]
  },
  {
   "cell_type": "markdown",
   "metadata": {},
   "source": [
    "Using variables in strings \n",
    "\n",
    "ex: might was two variables to present a first name and a last them and then combine those values to display someones name"
   ]
  },
  {
   "cell_type": "code",
   "execution_count": 9,
   "metadata": {},
   "outputs": [
    {
     "name": "stdout",
     "output_type": "stream",
     "text": [
      "ada lovelace\n"
     ]
    }
   ],
   "source": [
    "first_name = \"ada\"\n",
    "last_name = \"lovelace\"\n",
    "full_name = f\"{first_name} {last_name}\"\n",
    "print(full_name)"
   ]
  },
  {
   "cell_type": "markdown",
   "metadata": {},
   "source": [
    "To insert a variables value into a string, place the letter f immediately before the opening quatation marks, put braces around the name or names of any variable you want to use insdie the string, python will replace each variable with its value when the string is displayed \n",
    "\n",
    "These are called f strings, the f is for format because python formats the strings by replacing the name of any variable in braces with its value"
   ]
  },
  {
   "cell_type": "code",
   "execution_count": 13,
   "metadata": {},
   "outputs": [
    {
     "name": "stdout",
     "output_type": "stream",
     "text": [
      "Hello, Ada Lovelace!\n"
     ]
    }
   ],
   "source": [
    "message = f\"Hello, {full_name.title()}!\"\n",
    "print(message)"
   ]
  },
  {
   "cell_type": "markdown",
   "metadata": {},
   "source": [
    "Adding whitespace to strings with tabs or newlines\n",
    "\n",
    "whitespace: any nonprinting charater, such as spaces, tabs, and end of line symbols, you can use whitespace to organize your output so its easier for users to read, to add a tab to your text use the character combination \\t"
   ]
  },
  {
   "cell_type": "code",
   "execution_count": 15,
   "metadata": {},
   "outputs": [
    {
     "name": "stdout",
     "output_type": "stream",
     "text": [
      "Python\n",
      "\tPython\n"
     ]
    }
   ],
   "source": [
    "print(\"Python\")\n",
    "print(\"\\tPython\")\n",
    "# To add a newline in a string, use the character combination \\n:"
   ]
  },
  {
   "cell_type": "markdown",
   "metadata": {},
   "source": [
    "To add a new line string use the character combination \\n:"
   ]
  },
  {
   "cell_type": "markdown",
   "metadata": {},
   "source": [
    "You can combine tabs and newlines in a single string \"\\n\\t\" that tells python to move to a new line and start the next line with a tab "
   ]
  },
  {
   "cell_type": "code",
   "execution_count": 18,
   "metadata": {},
   "outputs": [
    {
     "name": "stdout",
     "output_type": "stream",
     "text": [
      "Languages:\n",
      "\tPython\n",
      "\tJavascript\n",
      "\tC\n"
     ]
    }
   ],
   "source": [
    "print(\"Languages:\\n\\tPython\\n\\tJavascript\\n\\tC\")"
   ]
  },
  {
   "cell_type": "markdown",
   "metadata": {},
   "source": [
    "Stripping Whitespace\n",
    "- python can look for whitespace on the right an left side of strings \n",
    "- to ensure that no whitespace exists at the right end of a string use the rstrip() methods "
   ]
  },
  {
   "cell_type": "code",
   "execution_count": 4,
   "metadata": {},
   "outputs": [
    {
     "data": {
      "text/plain": [
       "'python'"
      ]
     },
     "execution_count": 4,
     "metadata": {},
     "output_type": "execute_result"
    }
   ],
   "source": [
    "favorite_language = 'python '\n",
    "favorite_language\n",
    "\n",
    "favorite_language.rstrip()"
   ]
  },
  {
   "cell_type": "markdown",
   "metadata": {},
   "source": [
    "The value assocaited with favorite_language contains white space at the end of the string, but when the r strip method is used it removes the extra space but if you ask for the value again the sapce is added back, to remove the white space from the string permanently you have to associate the stripped value with the variable"
   ]
  },
  {
   "cell_type": "code",
   "execution_count": 6,
   "metadata": {},
   "outputs": [
    {
     "data": {
      "text/plain": [
       "'python'"
      ]
     },
     "execution_count": 6,
     "metadata": {},
     "output_type": "execute_result"
    }
   ],
   "source": [
    "favorite_language = 'python '\n",
    "favorite_language = favorite_language.rstrip()\n",
    "favorite_language"
   ]
  },
  {
   "cell_type": "markdown",
   "metadata": {},
   "source": [
    "You can strip whitespace from the left side of the variable using lstrip() or from both sides using strip()"
   ]
  },
  {
   "cell_type": "code",
   "execution_count": 7,
   "metadata": {},
   "outputs": [
    {
     "data": {
      "text/plain": [
       "'python'"
      ]
     },
     "execution_count": 7,
     "metadata": {},
     "output_type": "execute_result"
    }
   ],
   "source": [
    "favorite_language = ' python '\n",
    "favorite_language.rstrip()\n",
    "favorite_language.lstrip()\n",
    "favorite_language.strip()"
   ]
  },
  {
   "cell_type": "markdown",
   "metadata": {},
   "source": [
    "Avoiding Syntax Erros with Strings\n",
    "\n",
    "A syntax error occurs when python doesnt recognize a section of you program as valid code \n",
    "ex: if you use an apsotrophe within single quotes, youll produce an error \n",
    "This happens becasuae python interprets everything between the first single quote and the apostrophe as a string , it then tries to interpret the rest of the code and will therefore produce an error "
   ]
  },
  {
   "cell_type": "code",
   "execution_count": 8,
   "metadata": {},
   "outputs": [
    {
     "name": "stdout",
     "output_type": "stream",
     "text": [
      "One of python's strengths is its diverse community.\n"
     ]
    }
   ],
   "source": [
    "message = \"One of python's strengths is its diverse community.\"\n",
    "print(message)"
   ]
  },
  {
   "cell_type": "markdown",
   "metadata": {},
   "source": [
    "The apostrophe appears inside a set of double quotes so the python interpreter has no trouble reading the string correctly, however if you use a single quote python cant identify where the string ends "
   ]
  },
  {
   "cell_type": "code",
   "execution_count": 9,
   "metadata": {},
   "outputs": [
    {
     "ename": "SyntaxError",
     "evalue": "unterminated string literal (detected at line 1) (243000137.py, line 1)",
     "output_type": "error",
     "traceback": [
      "\u001b[0;36m  Cell \u001b[0;32mIn[9], line 1\u001b[0;36m\u001b[0m\n\u001b[0;31m    message = 'One of python's strengths is its divese community'\u001b[0m\n\u001b[0m                                                                ^\u001b[0m\n\u001b[0;31mSyntaxError\u001b[0m\u001b[0;31m:\u001b[0m unterminated string literal (detected at line 1)\n"
     ]
    }
   ],
   "source": [
    "message = 'One of python's strengths is its divese community'"
   ]
  },
  {
   "cell_type": "markdown",
   "metadata": {},
   "source": [
    "Practice: "
   ]
  },
  {
   "cell_type": "code",
   "execution_count": 26,
   "metadata": {},
   "outputs": [
    {
     "name": "stdout",
     "output_type": "stream",
     "text": [
      "SALLY\n",
      "sally\n",
      "Sally\n",
      "Michael Scott once said, \"you miss 100% of the shots you dont take\"\n",
      "Michael Scotts, once said \"you miss 100% of the shots you dont take\n",
      "Ben \n",
      "\tBecker\n",
      "\n"
     ]
    }
   ],
   "source": [
    "Lauren = \"How's the homework going?\"\n",
    "name = \"Sally\"\n",
    "print(name.upper())\n",
    "print(name.lower())\n",
    "print(name.title())\n",
    "message = 'Michael Scott once said, \"you miss 100% of the shots you dont take\"'\n",
    "print(message)\n",
    "famous_person = \"Michael Scotts\"\n",
    "print(f'{famous_person.title()}, once said \"you miss 100% of the shots you dont take')\n",
    "\n",
    "ben = \" Bennet Becker \"\n",
    "ben = ben.strip()\n",
    "ben.rstrip()\n",
    "ben.lstrip()\n",
    "print(\"Ben \\n\\tBecker\\n\")"
   ]
  },
  {
   "cell_type": "markdown",
   "metadata": {},
   "source": [
    "Numbers\n",
    "Used in programming to keep score in games, represent data in viz, store info in web apps, and so on. \n",
    "\n",
    "Integers: you can add, subtract, multiply, and divide integersz"
   ]
  },
  {
   "cell_type": "code",
   "execution_count": 34,
   "metadata": {},
   "outputs": [
    {
     "data": {
      "text/plain": [
       "20"
      ]
     },
     "execution_count": 34,
     "metadata": {},
     "output_type": "execute_result"
    }
   ],
   "source": [
    "2 + 2\n",
    "4 * 3\n",
    "16/8\n",
    "80- 5\n",
    "2 ** 2 # represents exponent\n",
    "2 + 3*4 # 14\n",
    "(2 + 3)*4 #20, pyhton performs order of operations in the order you specify "
   ]
  },
  {
   "cell_type": "markdown",
   "metadata": {},
   "source": [
    "Floats: Any number with a decimal point"
   ]
  },
  {
   "cell_type": "code",
   "execution_count": 38,
   "metadata": {},
   "outputs": [
    {
     "data": {
      "text/plain": [
       "0.30000000000000004"
      ]
     },
     "execution_count": 38,
     "metadata": {},
     "output_type": "execute_result"
    }
   ],
   "source": [
    "0.1 + 0.34\n",
    "2 * 0.4\n",
    "0.8 / 0.9\n",
    "0.2 + 0.1 # sometimes you will get an arbitrary list of decimal points in your number"
   ]
  },
  {
   "cell_type": "markdown",
   "metadata": {},
   "source": [
    "Integers and Floats"
   ]
  },
  {
   "cell_type": "code",
   "execution_count": 39,
   "metadata": {},
   "outputs": [
    {
     "data": {
      "text/plain": [
       "2.0"
      ]
     },
     "execution_count": 39,
     "metadata": {},
     "output_type": "execute_result"
    }
   ],
   "source": [
    "4/2 # output is a float "
   ]
  },
  {
   "cell_type": "code",
   "execution_count": 40,
   "metadata": {},
   "outputs": [
    {
     "data": {
      "text/plain": [
       "6.0"
      ]
     },
     "execution_count": 40,
     "metadata": {},
     "output_type": "execute_result"
    }
   ],
   "source": [
    "1 + 2.0\n",
    "2 * 3.0\n",
    "3.0 * 2 #if you mix and integer with a float you will get a float, python resorts to a float anytime a float is used "
   ]
  },
  {
   "cell_type": "markdown",
   "metadata": {},
   "source": [
    "Underscores in numbers: when writing long numbers you can group digits using underscores to make large numbers more readable"
   ]
  },
  {
   "cell_type": "code",
   "execution_count": 45,
   "metadata": {},
   "outputs": [
    {
     "data": {
      "text/plain": [
       "1000"
      ]
     },
     "execution_count": 45,
     "metadata": {},
     "output_type": "execute_result"
    }
   ],
   "source": [
    "universe_age = 14_000_000_000\n",
    "universe_age\n",
    "test = 10_10\n",
    "test_two = 100_0\n",
    "test\n",
    "test_two"
   ]
  },
  {
   "cell_type": "markdown",
   "metadata": {},
   "source": [
    "Multiple assignment: you can assign values to more than one variable using a single line"
   ]
  },
  {
   "cell_type": "code",
   "execution_count": 49,
   "metadata": {},
   "outputs": [
    {
     "data": {
      "text/plain": [
       "0"
      ]
     },
     "execution_count": 49,
     "metadata": {},
     "output_type": "execute_result"
    }
   ],
   "source": [
    "x, y, z= 0, 0, 0"
   ]
  },
  {
   "cell_type": "markdown",
   "metadata": {},
   "source": [
    "Constants : a variable whose value stays the same throughout a program, python doesnt have built in constant types, but python uses all capital letters to indicate a variable should be treated as constant and never be changed (when you treat a variable as a constant in your code make the name of the variable all capital letters)"
   ]
  },
  {
   "cell_type": "code",
   "execution_count": 50,
   "metadata": {},
   "outputs": [],
   "source": [
    "MAX_CONNECTIONS = 5000"
   ]
  },
  {
   "cell_type": "markdown",
   "metadata": {},
   "source": [
    "Practice"
   ]
  },
  {
   "cell_type": "code",
   "execution_count": 54,
   "metadata": {},
   "outputs": [
    {
     "name": "stdout",
     "output_type": "stream",
     "text": [
      "8\n",
      "8.0\n",
      "8\n"
     ]
    },
    {
     "data": {
      "text/plain": [
       "'my favorite number is 9'"
      ]
     },
     "execution_count": 54,
     "metadata": {},
     "output_type": "execute_result"
    }
   ],
   "source": [
    "print(16-8)\n",
    "print(64/8)\n",
    "print(2*4)\n",
    "\n",
    "number = 9\n",
    "message = f\"my favorite number is {number}\"\n",
    "message"
   ]
  },
  {
   "cell_type": "markdown",
   "metadata": {},
   "source": [
    "Comments"
   ]
  },
  {
   "cell_type": "markdown",
   "metadata": {},
   "source": [
    "The main reason to write comments is to explain what your code is suppose to do and how you're making it work. \n",
    "\n",
    "\n",
    "The Zen of Python \n",
    "- simple is better than complex \n",
    "- complex is better htan compicated \n",
    "- readability counts \n",
    "- there should be one and preferably only one obvious way to do it \n",
    "- now is better than never"
   ]
  },
  {
   "cell_type": "markdown",
   "metadata": {},
   "source": []
  }
 ],
 "metadata": {
  "kernelspec": {
   "display_name": "Python 3",
   "language": "python",
   "name": "python3"
  },
  "language_info": {
   "codemirror_mode": {
    "name": "ipython",
    "version": 3
   },
   "file_extension": ".py",
   "mimetype": "text/x-python",
   "name": "python",
   "nbconvert_exporter": "python",
   "pygments_lexer": "ipython3",
   "version": "3.11.4"
  },
  "orig_nbformat": 4
 },
 "nbformat": 4,
 "nbformat_minor": 2
}
