{
 "cells": [
  {
   "cell_type": "code",
   "execution_count": 2,
   "metadata": {},
   "outputs": [
    {
     "name": "stdout",
     "output_type": "stream",
     "text": [
      "Hey hey\n",
      "I want to go snowbaording\n"
     ]
    }
   ],
   "source": [
    "message = \"Hey hey\"\n",
    "print(message)\n",
    "# here we added a variable named message and every variable is connected to a value \n",
    "\n",
    "message = \"I want to go snowbaording\"\n",
    "print(message)\n",
    "# you can change the value of your variable at any time and python will keep track of it "
   ]
  },
  {
   "cell_type": "markdown",
   "metadata": {},
   "source": [
    "Naming and Using Variables\n",
    "- variable names can contain only letters, numbers, and underscores\n",
    "- they can start with a letter or underscore but not with a number"
   ]
  },
  {
   "cell_type": "markdown",
   "metadata": {},
   "source": [
    "Creating an error"
   ]
  },
  {
   "cell_type": "code",
   "execution_count": 3,
   "metadata": {},
   "outputs": [
    {
     "ename": "NameError",
     "evalue": "name 'mesage' is not defined",
     "output_type": "error",
     "traceback": [
      "\u001b[0;31m---------------------------------------------------------------------------\u001b[0m",
      "\u001b[0;31mNameError\u001b[0m                                 Traceback (most recent call last)",
      "Cell \u001b[0;32mIn[3], line 2\u001b[0m\n\u001b[1;32m      1\u001b[0m message \u001b[39m=\u001b[39m \u001b[39m\"\u001b[39m\u001b[39mHey Laur!\u001b[39m\u001b[39m\"\u001b[39m\n\u001b[0;32m----> 2\u001b[0m \u001b[39mprint\u001b[39m(mesage)\n",
      "\u001b[0;31mNameError\u001b[0m: name 'mesage' is not defined"
     ]
    }
   ],
   "source": [
    "message = \"Hey Laur!\"\n",
    "print(mesage)\n",
    "\n",
    "#the output at 1 reports that an error occured in line 2 and tells us what error was found\n",
    "# reports a name error: means we forgot to set a variables value before it or we made a spelling mistake "
   ]
  },
  {
   "cell_type": "markdown",
   "metadata": {},
   "source": [
    "Variables and Labels \n",
    "\n",
    "Variables: boxes in which you can store values in\n",
    "\n",
    "Practice: assign a message to a variable and print the mean then assign a new message to the variable "
   ]
  },
  {
   "cell_type": "code",
   "execution_count": 6,
   "metadata": {},
   "outputs": [
    {
     "name": "stdout",
     "output_type": "stream",
     "text": [
      "I work from 3 to 8\n"
     ]
    },
    {
     "data": {
      "text/plain": [
       "'Today I work from 3 to 8'"
      ]
     },
     "execution_count": 6,
     "metadata": {},
     "output_type": "execute_result"
    }
   ],
   "source": [
    "print(\"I work from 3 to 8\")\n",
    "var = \"I work from 3 to 8\"\n",
    "var = \"Today I work from 3 to 8\"\n",
    "var"
   ]
  },
  {
   "cell_type": "markdown",
   "metadata": {},
   "source": [
    "Strings:\n",
    "\n",
    " a series of characters, anything inside quots is considered a string and you can use single or double quotes \n",
    "\"This is a string\"\n",
    "'This is also a string'\n",
    "'Python, \"is a great language\"'\n",
    "\n",
    "Changing case:"
   ]
  },
  {
   "cell_type": "code",
   "execution_count": 8,
   "metadata": {},
   "outputs": [
    {
     "name": "stdout",
     "output_type": "stream",
     "text": [
      "Ada Lovelace\n",
      "ADA LOVELACE\n",
      "ada lovelace\n"
     ]
    }
   ],
   "source": [
    "name = \"ada lovelace\"\n",
    "print(name.title())\n",
    "# the method title() appears after the variable in the print(), a method is an action that python can perform on a piece of data, the (.) after the variable tells python to perform the title() action on that variable,\n",
    "# title() needs no additioanl info so it remains empty\n",
    "# title() changes the first letter of each word to title case where each word begins with a capital letter \n",
    "\n",
    "print(name.upper())\n",
    "print(name.lower()) #great for storing data "
   ]
  },
  {
   "cell_type": "markdown",
   "metadata": {},
   "source": [
    "Using variables in strings \n",
    "\n",
    "ex: might was two variables to present a first name and a last them and then combine those values to display someones name"
   ]
  },
  {
   "cell_type": "code",
   "execution_count": 9,
   "metadata": {},
   "outputs": [
    {
     "name": "stdout",
     "output_type": "stream",
     "text": [
      "ada lovelace\n"
     ]
    }
   ],
   "source": [
    "first_name = \"ada\"\n",
    "last_name = \"lovelace\"\n",
    "full_name = f\"{first_name} {last_name}\"\n",
    "print(full_name)"
   ]
  },
  {
   "cell_type": "markdown",
   "metadata": {},
   "source": [
    "To insert a variables value into a string, place the letter f immediately before the opening quatation marks, put braces around the name or names of any variable you want to use insdie the string, python will replace each variable with its value when the string is displayed \n",
    "\n",
    "These are called f strings, the f is for format because python formats the strings by replacing the name of any variable in braces with its value"
   ]
  },
  {
   "cell_type": "code",
   "execution_count": 13,
   "metadata": {},
   "outputs": [
    {
     "name": "stdout",
     "output_type": "stream",
     "text": [
      "Hello, Ada Lovelace!\n"
     ]
    }
   ],
   "source": [
    "message = f\"Hello, {full_name.title()}!\"\n",
    "print(message)"
   ]
  },
  {
   "cell_type": "markdown",
   "metadata": {},
   "source": [
    "Adding whitespace to strings with tabs or newlines\n",
    "\n",
    "whitespace: any nonprinting charater, such as spaces, tabs, and end of line symbols, you can use whitespace to organize your output so its easier for users to read, to add a tab to your text use the character combination \\t"
   ]
  },
  {
   "cell_type": "code",
   "execution_count": 15,
   "metadata": {},
   "outputs": [
    {
     "name": "stdout",
     "output_type": "stream",
     "text": [
      "Python\n",
      "\tPython\n"
     ]
    }
   ],
   "source": [
    "print(\"Python\")\n",
    "print(\"\\tPython\")\n",
    "# To add a newline in a string, use the character combination \\n:"
   ]
  },
  {
   "cell_type": "markdown",
   "metadata": {},
   "source": [
    "To add a new line string use the character combination \\n:"
   ]
  },
  {
   "cell_type": "markdown",
   "metadata": {},
   "source": [
    "You can combine tabs and newlines in a single string \"\\n\\t\" that tells python to move to a new line and start the next line with a tab "
   ]
  },
  {
   "cell_type": "code",
   "execution_count": 18,
   "metadata": {},
   "outputs": [
    {
     "name": "stdout",
     "output_type": "stream",
     "text": [
      "Languages:\n",
      "\tPython\n",
      "\tJavascript\n",
      "\tC\n"
     ]
    }
   ],
   "source": [
    "print(\"Languages:\\n\\tPython\\n\\tJavascript\\n\\tC\")"
   ]
  },
  {
   "cell_type": "markdown",
   "metadata": {},
   "source": []
  },
  {
   "cell_type": "code",
   "execution_count": null,
   "metadata": {},
   "outputs": [],
   "source": []
  },
  {
   "cell_type": "code",
   "execution_count": null,
   "metadata": {},
   "outputs": [],
   "source": []
  }
 ],
 "metadata": {
  "kernelspec": {
   "display_name": "Python 3",
   "language": "python",
   "name": "python3"
  },
  "language_info": {
   "codemirror_mode": {
    "name": "ipython",
    "version": 3
   },
   "file_extension": ".py",
   "mimetype": "text/x-python",
   "name": "python",
   "nbconvert_exporter": "python",
   "pygments_lexer": "ipython3",
   "version": "3.11.4"
  },
  "orig_nbformat": 4
 },
 "nbformat": 4,
 "nbformat_minor": 2
}
