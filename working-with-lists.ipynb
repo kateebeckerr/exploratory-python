{
 "cells": [
  {
   "cell_type": "markdown",
   "metadata": {},
   "source": [
    "Looping: allows you to take the same action, or set of actions, wit every item in a list. As a result, you'll be able to work efficiently with any lengths \n",
    "\n",
    "Looping through an entire list: \n",
    "- performing same statistical operation on each element in the list\n",
    "- or  move every item on a screen the same amount \n",
    "\n",
    "Printing a list of names from a list using a loop: "
   ]
  },
  {
   "cell_type": "code",
   "execution_count": 4,
   "metadata": {},
   "outputs": [
    {
     "name": "stdout",
     "output_type": "stream",
     "text": [
      "alicia\n",
      "david\n",
      "carolina\n"
     ]
    }
   ],
   "source": [
    "magicians = ['alicia', 'david', 'carolina']\n",
    "for magician in magicians: #retrieve the first value from the list and associate with the variable magician but there is more than one value so it continues to do this until it reaches the last value in the list and would then move to the next line of code\n",
    "    print(magician)"
   ]
  },
  {
   "cell_type": "markdown",
   "metadata": {},
   "source": [
    "example lists\n",
    "\n",
    "for cat in cats:\n",
    "\n",
    "for dog in dogs:\n",
    "\n",
    "for item in list_of_items : \n",
    "\n",
    "\n",
    "\n",
    "\n",
    "Doing more within a loop"
   ]
  },
  {
   "cell_type": "code",
   "execution_count": 5,
   "metadata": {},
   "outputs": [
    {
     "name": "stdout",
     "output_type": "stream",
     "text": [
      "Alicia, that was a great trick!\n",
      "David, that was a great trick!\n",
      "Carolina, that was a great trick!\n"
     ]
    }
   ],
   "source": [
    "magicians = ['alicia', 'david', 'carolina']\n",
    "for magician in magicians:\n",
    "    print(f\"{magician.title()}, that was a great trick!\")\n",
    "    "
   ]
  },
  {
   "cell_type": "code",
   "execution_count": 7,
   "metadata": {},
   "outputs": [
    {
     "name": "stdout",
     "output_type": "stream",
     "text": [
      "Alicia, that was a great trick!\n",
      "Alicia I can't wait for your next trick. \n",
      "\n",
      "David, that was a great trick!\n",
      "David I can't wait for your next trick. \n",
      "\n",
      "Carolina, that was a great trick!\n",
      "Carolina I can't wait for your next trick. \n",
      "\n"
     ]
    }
   ],
   "source": [
    "magicians = ['alicia', 'david', 'carolina']\n",
    "for magician in magicians:\n",
    "    print(f\"{magician.title()}, that was a great trick!\")\n",
    "    print(f\"{magician.title()} I can't wait for your next trick. \\n\")"
   ]
  },
  {
   "cell_type": "markdown",
   "metadata": {},
   "source": [
    "Avoiding indentation errros:\n",
    "- forgetting to indent\n",
    "- forgettingt o indent additional lines \n",
    "- a logical error: syntax is valid but the code does not produce the desired requet\n",
    "- unnecessary indenting\n",
    "- indenting unnecessarily after the loop\n",
    "- forgetting the colen "
   ]
  },
  {
   "cell_type": "code",
   "execution_count": 9,
   "metadata": {},
   "outputs": [
    {
     "name": "stdout",
     "output_type": "stream",
     "text": [
      "Alicia, that was a great trick!\n",
      "that was a great show, Alicia\n",
      "\n",
      "I cant wait to see your next trick, Alicia \n",
      "\n",
      "David, that was a great trick!\n",
      "that was a great show, David\n",
      "\n",
      "I cant wait to see your next trick, David \n",
      "\n",
      "Carolina, that was a great trick!\n",
      "that was a great show, Carolina\n",
      "\n",
      "I cant wait to see your next trick, Carolina \n",
      "\n"
     ]
    }
   ],
   "source": [
    "magicians = ['alicia', 'david', 'carolina']\n",
    "for magician in magicians:\n",
    "    print(f\"{magician.title()}, that was a great trick!\")\n",
    "    print(f\"that was a great show, {magician.title()}\\n\")\n",
    "\n",
    "    print(f\"I cant wait to see your next trick, {magician.title()} \\n\")\n",
    "    "
   ]
  },
  {
   "cell_type": "code",
   "execution_count": 14,
   "metadata": {},
   "outputs": [
    {
     "name": "stdout",
     "output_type": "stream",
     "text": [
      "sausage\n",
      "brie and jam\n",
      "tomato and mozz\n"
     ]
    }
   ],
   "source": [
    "pizzas = ['sausage', 'brie and jam', 'tomato and mozz']\n",
    "for pizza in pizzas: \n",
    "    print(pizza)"
   ]
  },
  {
   "cell_type": "markdown",
   "metadata": {},
   "source": []
  },
  {
   "cell_type": "code",
   "execution_count": 17,
   "metadata": {},
   "outputs": [
    {
     "name": "stdout",
     "output_type": "stream",
     "text": [
      "On my pizza, I love topping it with Sausage! \n",
      "\n",
      "But I can only get Sausage at Barchetta \n",
      "\n",
      "On my pizza, I love topping it with Brie And Jam! \n",
      "\n",
      "But I can only get Brie And Jam at Barchetta \n",
      "\n",
      "On my pizza, I love topping it with Tomato And Mozz! \n",
      "\n",
      "But I can only get Tomato And Mozz at Barchetta \n",
      "\n"
     ]
    }
   ],
   "source": [
    "for pizza in pizzas: \n",
    "    print(f\"On my pizza, I love topping it with {pizza.title()}! \\n\")\n",
    "    print(f\"But I can only get {pizza.title()} at Barchetta \\n\")"
   ]
  },
  {
   "cell_type": "markdown",
   "metadata": {},
   "source": [
    "Making numerical lists: you may need to keep track of the positions of each characters in a game or highest score and in data viz youll always have to deal with variables such as temp, distance, lat,long, distances... and lists are ideal for storing "
   ]
  },
  {
   "cell_type": "markdown",
   "metadata": {},
   "source": [
    "Using range() function : makes it easy to generate a series of numbers"
   ]
  },
  {
   "cell_type": "code",
   "execution_count": 20,
   "metadata": {},
   "outputs": [
    {
     "name": "stdout",
     "output_type": "stream",
     "text": [
      "1\n",
      "2\n",
      "3\n",
      "4\n"
     ]
    }
   ],
   "source": [
    "for value in range(1,5):\n",
    "    print(value) # starts and first value and ends at last so youll never get last value so I would use range(1,6)"
   ]
  },
  {
   "cell_type": "markdown",
   "metadata": {},
   "source": [
    "Using range to make a list of numbers: can take results of range() and directly create a list with it using list(), wrap list() aroud a call to the range()"
   ]
  },
  {
   "cell_type": "code",
   "execution_count": 21,
   "metadata": {},
   "outputs": [
    {
     "name": "stdout",
     "output_type": "stream",
     "text": [
      "[1, 2, 3, 4, 5]\n"
     ]
    }
   ],
   "source": [
    "numbers = list(range(1,6))\n",
    "print(numbers)"
   ]
  },
  {
   "cell_type": "markdown",
   "metadata": {},
   "source": [
    "Can also use range() to tell python to skip numbers in a given range if you pass a thrid argument range() python uses that value as a step size when generating numbers "
   ]
  },
  {
   "cell_type": "code",
   "execution_count": 22,
   "metadata": {},
   "outputs": [
    {
     "name": "stdout",
     "output_type": "stream",
     "text": [
      "[2, 4, 6, 8, 10]\n"
     ]
    }
   ],
   "source": [
    "even_numbers = list(range(2,11,2))\n",
    "print(even_numbers)"
   ]
  },
  {
   "cell_type": "markdown",
   "metadata": {},
   "source": [
    "You can also create any set of numbers you want to using the range() such as you want to make a list of the first 10 square numbers or sqaure of each integer frorm 1 to 10, ** represents exponents "
   ]
  },
  {
   "cell_type": "code",
   "execution_count": 23,
   "metadata": {},
   "outputs": [
    {
     "name": "stdout",
     "output_type": "stream",
     "text": [
      "[1, 4, 9, 16, 25, 36, 49, 64, 81, 100]\n"
     ]
    }
   ],
   "source": [
    "squares = []\n",
    "for value in range(1, 11):\n",
    "    square = value**2\n",
    "    squares.append(square) #each value is appended to the list squares \n",
    "\n",
    "print(squares)"
   ]
  },
  {
   "cell_type": "code",
   "execution_count": 26,
   "metadata": {},
   "outputs": [
    {
     "name": "stdout",
     "output_type": "stream",
     "text": [
      "[1, 4, 9, 16, 25, 36, 49, 64, 81, 100]\n"
     ]
    }
   ],
   "source": [
    "squares = []\n",
    "for value in range(1, 11):\n",
    "    squares.append(value ** 2) #each value in loop is raised to second power and imemdiatelyy appended to the list of squares s\n",
    "\n",
    "print(squares)\n",
    "# does the same thing "
   ]
  },
  {
   "cell_type": "markdown",
   "metadata": {},
   "source": [
    "Simple Statistics with a list of numbers"
   ]
  },
  {
   "cell_type": "code",
   "execution_count": null,
   "metadata": {},
   "outputs": [],
   "source": []
  }
 ],
 "metadata": {
  "kernelspec": {
   "display_name": "Python 3",
   "language": "python",
   "name": "python3"
  },
  "language_info": {
   "codemirror_mode": {
    "name": "ipython",
    "version": 3
   },
   "file_extension": ".py",
   "mimetype": "text/x-python",
   "name": "python",
   "nbconvert_exporter": "python",
   "pygments_lexer": "ipython3",
   "version": "3.11.4"
  },
  "orig_nbformat": 4
 },
 "nbformat": 4,
 "nbformat_minor": 2
}
