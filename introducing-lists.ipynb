{
 "cells": [
  {
   "cell_type": "markdown",
   "metadata": {},
   "source": [
    "Introducing Lists \n",
    "\n",
    "Lists: allow you store sets of information in one place, a collection of items in a particular order, and you can make a list that includes the letters of the alphabet, the digits from 0 to 9 or the names of all the people in your family, ususally ocntains more tha none element and a good idea to make the name of your list plural such as letters, digists, or names"
   ]
  },
  {
   "cell_type": "code",
   "execution_count": 2,
   "metadata": {},
   "outputs": [
    {
     "name": "stdout",
     "output_type": "stream",
     "text": [
      "['trek', 'cannondale', 'redline', 'specialzied']\n"
     ]
    }
   ],
   "source": [
    "bicycles = ['trek', 'cannondale', 'redline', 'specialzied']\n",
    "print(bicycles)"
   ]
  },
  {
   "cell_type": "markdown",
   "metadata": {},
   "source": [
    "Accessing Elements in a List"
   ]
  },
  {
   "cell_type": "code",
   "execution_count": 6,
   "metadata": {},
   "outputs": [
    {
     "name": "stdout",
     "output_type": "stream",
     "text": [
      "trek\n"
     ]
    },
    {
     "ename": "NameError",
     "evalue": "name 'trek' is not defined",
     "output_type": "error",
     "traceback": [
      "\u001b[0;31m---------------------------------------------------------------------------\u001b[0m",
      "\u001b[0;31mNameError\u001b[0m                                 Traceback (most recent call last)",
      "Cell \u001b[0;32mIn[6], line 3\u001b[0m\n\u001b[1;32m      1\u001b[0m \u001b[39mprint\u001b[39m(bicycles[\u001b[39m0\u001b[39m])\n\u001b[0;32m----> 3\u001b[0m trek\n",
      "\u001b[0;31mNameError\u001b[0m: name 'trek' is not defined"
     ]
    }
   ],
   "source": [
    "print(bicycles[0])\n"
   ]
  },
  {
   "cell_type": "code",
   "execution_count": 7,
   "metadata": {},
   "outputs": [
    {
     "name": "stdout",
     "output_type": "stream",
     "text": [
      "Trek\n"
     ]
    }
   ],
   "source": [
    "print(bicycles[0].title())"
   ]
  },
  {
   "cell_type": "markdown",
   "metadata": {},
   "source": [
    "Index Position stars at 0 not 1, first item is 0, and second is 1, so for the third item you want 2"
   ]
  },
  {
   "cell_type": "code",
   "execution_count": 9,
   "metadata": {},
   "outputs": [
    {
     "name": "stdout",
     "output_type": "stream",
     "text": [
      "cannondale\n",
      "specialzied\n"
     ]
    }
   ],
   "source": [
    "print(bicycles[1])\n",
    "print(bicycles[3])"
   ]
  },
  {
   "cell_type": "code",
   "execution_count": 11,
   "metadata": {},
   "outputs": [
    {
     "name": "stdout",
     "output_type": "stream",
     "text": [
      "specialzied\n"
     ]
    }
   ],
   "source": [
    "print(bicycles[-1]) #prints the last item in a list, -2 returns secod item from the end of the list etc.... "
   ]
  },
  {
   "cell_type": "markdown",
   "metadata": {},
   "source": [
    "Using Individaul Values from a List"
   ]
  },
  {
   "cell_type": "code",
   "execution_count": 14,
   "metadata": {},
   "outputs": [
    {
     "name": "stdout",
     "output_type": "stream",
     "text": [
      "My first bicycle was a Trek.\n"
     ]
    }
   ],
   "source": [
    "message = f\"My first bicycle was a {bicycles[0].title()}.\"\n",
    "print(message)"
   ]
  },
  {
   "cell_type": "markdown",
   "metadata": {},
   "source": [
    "Practice"
   ]
  },
  {
   "cell_type": "code",
   "execution_count": 17,
   "metadata": {},
   "outputs": [
    {
     "name": "stdout",
     "output_type": "stream",
     "text": [
      "Kayla\n",
      "Dan\n"
     ]
    }
   ],
   "source": [
    "names = ['laur', 'kayla', 'emma', 'gab', 'dan']\n",
    "\n",
    "print(names[1].title())\n",
    "print(names[-1].title())"
   ]
  },
  {
   "cell_type": "code",
   "execution_count": 19,
   "metadata": {},
   "outputs": [
    {
     "name": "stdout",
     "output_type": "stream",
     "text": [
      "My cousin Emma has always been there for me\n"
     ]
    }
   ],
   "source": [
    "love = f\"My cousin {names[2].title()} has always been there for me\"\n",
    "print(love)"
   ]
  },
  {
   "cell_type": "code",
   "execution_count": 20,
   "metadata": {},
   "outputs": [],
   "source": [
    "locations = ['colorado', 'new york', 'wyoming', 'la', 'sf']"
   ]
  },
  {
   "cell_type": "code",
   "execution_count": 23,
   "metadata": {},
   "outputs": [],
   "source": [
    "message = f\"My friend {names[1].title()} lives in {locations[1].title()}\""
   ]
  },
  {
   "cell_type": "code",
   "execution_count": 24,
   "metadata": {},
   "outputs": [
    {
     "name": "stdout",
     "output_type": "stream",
     "text": [
      "My friend Kayla lives in New York\n"
     ]
    }
   ],
   "source": [
    "print(message)"
   ]
  },
  {
   "cell_type": "markdown",
   "metadata": {},
   "source": [
    "Changing,Adding, and Removing Elements\n",
    "\n",
    "ex: building a list and adding/removing elements from it as your program runs such as creating a game in which a player has to shoot alients out of the sky, you could store the intial set of aliens in a list and then remove an alien from the list each time one is show down "
   ]
  },
  {
   "cell_type": "markdown",
   "metadata": {},
   "source": [
    "Modifying Elements in a list:\n",
    "the syntax for modfying an element is similar to the syntax for accessing an element in a list, to change an element use the name of the list followed by the index of the element you want to change, and then provide the new value you want that item to have"
   ]
  },
  {
   "cell_type": "code",
   "execution_count": 25,
   "metadata": {},
   "outputs": [
    {
     "name": "stdout",
     "output_type": "stream",
     "text": [
      "['honda', 'yamaha', 'suzuki']\n"
     ]
    }
   ],
   "source": [
    "motorcycles = ['honda', 'yamaha', 'suzuki']\n",
    "print(motorcycles)"
   ]
  },
  {
   "cell_type": "code",
   "execution_count": 27,
   "metadata": {},
   "outputs": [
    {
     "name": "stdout",
     "output_type": "stream",
     "text": [
      "['honda', 'ducati', 'suzuki']\n"
     ]
    }
   ],
   "source": [
    "motorcycles[1]= 'ducati'\n",
    "print(motorcycles)"
   ]
  },
  {
   "cell_type": "markdown",
   "metadata": {},
   "source": [
    "Adding Elements to a list"
   ]
  },
  {
   "cell_type": "markdown",
   "metadata": {},
   "source": []
  }
 ],
 "metadata": {
  "kernelspec": {
   "display_name": "Python 3",
   "language": "python",
   "name": "python3"
  },
  "language_info": {
   "codemirror_mode": {
    "name": "ipython",
    "version": 3
   },
   "file_extension": ".py",
   "mimetype": "text/x-python",
   "name": "python",
   "nbconvert_exporter": "python",
   "pygments_lexer": "ipython3",
   "version": "3.11.4"
  },
  "orig_nbformat": 4
 },
 "nbformat": 4,
 "nbformat_minor": 2
}
