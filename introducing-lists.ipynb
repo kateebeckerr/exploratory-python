{
 "cells": [
  {
   "cell_type": "markdown",
   "metadata": {},
   "source": [
    "Introducing Lists \n",
    "\n",
    "Lists: allow you store sets of information in one place, a collection of items in a particular order, and you can make a list that includes the letters of the alphabet, the digits from 0 to 9 or the names of all the people in your family, ususally ocntains more tha none element and a good idea to make the name of your list plural such as letters, digists, or names"
   ]
  },
  {
   "cell_type": "code",
   "execution_count": 2,
   "metadata": {},
   "outputs": [
    {
     "name": "stdout",
     "output_type": "stream",
     "text": [
      "['trek', 'cannondale', 'redline', 'specialzied']\n"
     ]
    }
   ],
   "source": [
    "bicycles = ['trek', 'cannondale', 'redline', 'specialzied']\n",
    "print(bicycles)"
   ]
  },
  {
   "cell_type": "markdown",
   "metadata": {},
   "source": [
    "Accessing Elements in a List"
   ]
  },
  {
   "cell_type": "code",
   "execution_count": 3,
   "metadata": {},
   "outputs": [
    {
     "name": "stdout",
     "output_type": "stream",
     "text": [
      "trek\n"
     ]
    }
   ],
   "source": [
    "print(bicycles[0])\n"
   ]
  },
  {
   "cell_type": "code",
   "execution_count": 4,
   "metadata": {},
   "outputs": [
    {
     "name": "stdout",
     "output_type": "stream",
     "text": [
      "Trek\n"
     ]
    }
   ],
   "source": [
    "print(bicycles[0].title())"
   ]
  },
  {
   "cell_type": "markdown",
   "metadata": {},
   "source": [
    "Index Position stars at 0 not 1, first item is 0, and second is 1, so for the third item you want 2"
   ]
  },
  {
   "cell_type": "code",
   "execution_count": 5,
   "metadata": {},
   "outputs": [
    {
     "name": "stdout",
     "output_type": "stream",
     "text": [
      "cannondale\n",
      "specialzied\n"
     ]
    }
   ],
   "source": [
    "print(bicycles[1])\n",
    "print(bicycles[3])"
   ]
  },
  {
   "cell_type": "code",
   "execution_count": 6,
   "metadata": {},
   "outputs": [
    {
     "name": "stdout",
     "output_type": "stream",
     "text": [
      "specialzied\n"
     ]
    }
   ],
   "source": [
    "print(bicycles[-1]) #prints the last item in a list, -2 returns secod item from the end of the list etc.... "
   ]
  },
  {
   "cell_type": "markdown",
   "metadata": {},
   "source": [
    "Using Individaul Values from a List"
   ]
  },
  {
   "cell_type": "code",
   "execution_count": 7,
   "metadata": {},
   "outputs": [
    {
     "name": "stdout",
     "output_type": "stream",
     "text": [
      "My first bicycle was a Trek.\n"
     ]
    }
   ],
   "source": [
    "message = f\"My first bicycle was a {bicycles[0].title()}.\"\n",
    "print(message)"
   ]
  },
  {
   "cell_type": "markdown",
   "metadata": {},
   "source": [
    "Practice"
   ]
  },
  {
   "cell_type": "code",
   "execution_count": 8,
   "metadata": {},
   "outputs": [
    {
     "name": "stdout",
     "output_type": "stream",
     "text": [
      "Kayla\n",
      "Dan\n"
     ]
    }
   ],
   "source": [
    "names = ['laur', 'kayla', 'emma', 'gab', 'dan']\n",
    "\n",
    "print(names[1].title())\n",
    "print(names[-1].title())"
   ]
  },
  {
   "cell_type": "code",
   "execution_count": 9,
   "metadata": {},
   "outputs": [
    {
     "name": "stdout",
     "output_type": "stream",
     "text": [
      "My cousin Emma has always been there for me\n"
     ]
    }
   ],
   "source": [
    "love = f\"My cousin {names[2].title()} has always been there for me\"\n",
    "print(love)"
   ]
  },
  {
   "cell_type": "code",
   "execution_count": 10,
   "metadata": {},
   "outputs": [],
   "source": [
    "locations = ['colorado', 'new york', 'wyoming', 'la', 'sf']"
   ]
  },
  {
   "cell_type": "code",
   "execution_count": 11,
   "metadata": {},
   "outputs": [],
   "source": [
    "message = f\"My friend {names[1].title()} lives in {locations[1].title()}\""
   ]
  },
  {
   "cell_type": "code",
   "execution_count": 12,
   "metadata": {},
   "outputs": [
    {
     "name": "stdout",
     "output_type": "stream",
     "text": [
      "My friend Kayla lives in New York\n"
     ]
    }
   ],
   "source": [
    "print(message)"
   ]
  },
  {
   "cell_type": "markdown",
   "metadata": {},
   "source": [
    "Changing,Adding, and Removing Elements\n",
    "\n",
    "ex: building a list and adding/removing elements from it as your program runs such as creating a game in which a player has to shoot alients out of the sky, you could store the intial set of aliens in a list and then remove an alien from the list each time one is show down "
   ]
  },
  {
   "cell_type": "markdown",
   "metadata": {},
   "source": [
    "Modifying Elements in a list:\n",
    "the syntax for modfying an element is similar to the syntax for accessing an element in a list, to change an element use the name of the list followed by the index of the element you want to change, and then provide the new value you want that item to have"
   ]
  },
  {
   "cell_type": "code",
   "execution_count": 13,
   "metadata": {},
   "outputs": [
    {
     "name": "stdout",
     "output_type": "stream",
     "text": [
      "['honda', 'yamaha', 'suzuki']\n"
     ]
    }
   ],
   "source": [
    "motorcycles = ['honda', 'yamaha', 'suzuki']\n",
    "print(motorcycles)"
   ]
  },
  {
   "cell_type": "code",
   "execution_count": 14,
   "metadata": {},
   "outputs": [
    {
     "name": "stdout",
     "output_type": "stream",
     "text": [
      "['honda', 'ducati', 'suzuki']\n"
     ]
    }
   ],
   "source": [
    "motorcycles[1]= 'ducati'\n",
    "print(motorcycles)"
   ]
  },
  {
   "cell_type": "markdown",
   "metadata": {},
   "source": [
    "Adding Elements to a list"
   ]
  },
  {
   "cell_type": "markdown",
   "metadata": {},
   "source": [
    "Appending Elements to the End of a List: when you append an element its added at the end without affecting other elements"
   ]
  },
  {
   "cell_type": "code",
   "execution_count": 15,
   "metadata": {},
   "outputs": [
    {
     "name": "stdout",
     "output_type": "stream",
     "text": [
      "['honda', 'ducati', 'suzuki', 'ducati']\n"
     ]
    }
   ],
   "source": [
    "motorcycles.append('ducati')\n",
    "print(motorcycles)"
   ]
  },
  {
   "cell_type": "code",
   "execution_count": 16,
   "metadata": {},
   "outputs": [
    {
     "name": "stdout",
     "output_type": "stream",
     "text": [
      "['honda', 'suzuki', 'becker']\n"
     ]
    }
   ],
   "source": [
    "motorcycle = []\n",
    "motorcycle.append('honda')\n",
    "motorcycle.append('suzuki')\n",
    "motorcycle.append('becker')\n",
    "print(motorcycle)"
   ]
  },
  {
   "cell_type": "markdown",
   "metadata": {},
   "source": [
    "Inserting Elements into a List: you can add a new element at any position in your list by using insert() by specifying the index of the new element and the value of the new element "
   ]
  },
  {
   "cell_type": "code",
   "execution_count": 17,
   "metadata": {},
   "outputs": [
    {
     "name": "stdout",
     "output_type": "stream",
     "text": [
      "['kate', 'honda', 'suzuki', 'becker']\n"
     ]
    }
   ],
   "source": [
    "motorcycle.insert(0, 'kate')\n",
    "print(motorcycle)"
   ]
  },
  {
   "cell_type": "code",
   "execution_count": 18,
   "metadata": {},
   "outputs": [
    {
     "name": "stdout",
     "output_type": "stream",
     "text": [
      "['kate', 'honda', 'suzuki', 'anna', 'becker']\n"
     ]
    }
   ],
   "source": [
    "motorcycle.insert(3, 'anna')\n",
    "print(motorcycle) # the more you run it the more it adds anna  "
   ]
  },
  {
   "cell_type": "markdown",
   "metadata": {},
   "source": [
    "Removing elements from a list: a player shoots down an alien so you want to remove it from a list\n",
    "\n",
    "Removing an item using the del statement: if you know the positiono "
   ]
  },
  {
   "cell_type": "code",
   "execution_count": 19,
   "metadata": {},
   "outputs": [
    {
     "name": "stdout",
     "output_type": "stream",
     "text": [
      "['kate', 'suzuki', 'anna', 'becker']\n"
     ]
    }
   ],
   "source": [
    "del motorcycle[1]\n",
    "print(motorcycle)"
   ]
  },
  {
   "cell_type": "markdown",
   "metadata": {},
   "source": [
    "Removing an item using the pop() method: sometimes you want to use the value of an item after you remove it from the list\n",
    "\n",
    "ex: want to get x and y position of an alien that was shot down you want an x and y value to create an explosion, removing a user from an a member list and add it to a inactive member list\n",
    "\n",
    "pop() removes the last item in the list but lets you work with the item after removing it, popping one itemm off a list mmoves it to the end of a list "
   ]
  },
  {
   "cell_type": "code",
   "execution_count": 20,
   "metadata": {},
   "outputs": [
    {
     "name": "stdout",
     "output_type": "stream",
     "text": [
      "['kate', 'suzuki', 'anna', 'becker']\n",
      "becker\n"
     ]
    }
   ],
   "source": [
    "print(motorcycle)\n",
    "\n",
    "popped_motorcycles = motorcycle.pop()\n",
    "print(popped_motorcycles)\n",
    "# anna was remoed from end of the list and placed in another "
   ]
  },
  {
   "cell_type": "markdown",
   "metadata": {},
   "source": [
    "Could be useful to print a statement about the last motocycle we bought "
   ]
  },
  {
   "cell_type": "code",
   "execution_count": 21,
   "metadata": {},
   "outputs": [
    {
     "name": "stdout",
     "output_type": "stream",
     "text": [
      "The last motorcycle I owned was a Anna\n"
     ]
    }
   ],
   "source": [
    "last_owned = motorcycle.pop()\n",
    "print(f\"The last motorcycle I owned was a {last_owned.title()}\")"
   ]
  },
  {
   "cell_type": "markdown",
   "metadata": {},
   "source": [
    "Popping items from any position in a list byb including the index of the item "
   ]
  },
  {
   "cell_type": "code",
   "execution_count": 22,
   "metadata": {},
   "outputs": [
    {
     "name": "stdout",
     "output_type": "stream",
     "text": [
      "The last motorcycle I ownded was a Kate\n"
     ]
    }
   ],
   "source": [
    "first_owned = motorcycle.pop(0)\n",
    "print(f\"The last motorcycle I ownded was a {first_owned.title()}\")\n",
    "#each time you use a pop it is no longer in that list"
   ]
  },
  {
   "cell_type": "markdown",
   "metadata": {},
   "source": [
    "If you want to delete an item from a list and not use the item you use del, but if you want to use an item as you remoive it you use pop()"
   ]
  },
  {
   "cell_type": "markdown",
   "metadata": {},
   "source": [
    "Removing an item by a value use remove()"
   ]
  },
  {
   "cell_type": "code",
   "execution_count": 23,
   "metadata": {},
   "outputs": [
    {
     "name": "stdout",
     "output_type": "stream",
     "text": [
      "['suzuki', 'honda']\n"
     ]
    }
   ],
   "source": [
    "motorcycles = ['ducati', 'suzuki', 'honda']\n",
    "motorcycles.remove('ducati')\n",
    "print(motorcycles)"
   ]
  },
  {
   "cell_type": "code",
   "execution_count": 24,
   "metadata": {},
   "outputs": [
    {
     "name": "stdout",
     "output_type": "stream",
     "text": [
      "['honda']\n",
      "\n",
      "A Suzuki is too expensive for me\n"
     ]
    }
   ],
   "source": [
    "too_expensive = 'suzuki'\n",
    "motorcycles.remove(too_expensive)\n",
    "print(motorcycles)\n",
    "print(f\"\\nA {too_expensive.title()} is too expensive for me\")"
   ]
  },
  {
   "cell_type": "markdown",
   "metadata": {},
   "source": [
    "*The remove() method deletes only the first occurence of the value you specify, if the value appears more than once youll need to use a loop to make sure all occurences of the value are removed \n",
    "\n",
    "Practice"
   ]
  },
  {
   "cell_type": "code",
   "execution_count": 25,
   "metadata": {},
   "outputs": [
    {
     "name": "stdout",
     "output_type": "stream",
     "text": [
      "['Rihanna', 'Jaque Gusto', 'Jane Goodall']\n",
      "Rihanna you are cordially invited to dinner\n",
      "Jaque Gusto you are cordially invited to dinner\n",
      "Jane Goodall you are cordially invited to dinner\n"
     ]
    }
   ],
   "source": [
    "dinner = ['Rihanna', 'Jaque Gusto', 'Jane Goodall']\n",
    "print(dinner)\n",
    "\n",
    "invite = (f\"{dinner[0].title()} you are cordially invited to dinner\")\n",
    "print(invite)\n",
    "\n",
    "invitejq = (f\"{dinner[1].title()} you are cordially invited to dinner\")\n",
    "print(invitejq)\n",
    "\n",
    "invitejg = (f\"{dinner[2].title()} you are cordially invited to dinner\")\n",
    "print(invitejg)"
   ]
  },
  {
   "cell_type": "markdown",
   "metadata": {},
   "source": [
    "3.5 Changing guest list "
   ]
  },
  {
   "cell_type": "code",
   "execution_count": 26,
   "metadata": {},
   "outputs": [
    {
     "name": "stdout",
     "output_type": "stream",
     "text": [
      "Jaque Gusto cant make it\n"
     ]
    }
   ],
   "source": [
    "nos = (f\"{dinner[1].title()} cant make it\")\n",
    "print(nos)\n"
   ]
  },
  {
   "cell_type": "code",
   "execution_count": 27,
   "metadata": {},
   "outputs": [],
   "source": [
    "dinner[1] = 'Miles Teller'"
   ]
  },
  {
   "cell_type": "code",
   "execution_count": 28,
   "metadata": {},
   "outputs": [
    {
     "name": "stdout",
     "output_type": "stream",
     "text": [
      "['Rihanna', 'Miles Teller', 'Jane Goodall']\n"
     ]
    }
   ],
   "source": [
    "print(dinner)"
   ]
  },
  {
   "cell_type": "code",
   "execution_count": 30,
   "metadata": {},
   "outputs": [
    {
     "name": "stdout",
     "output_type": "stream",
     "text": [
      "Miles Teller I would cordially like to invite you to dinner\n"
     ]
    }
   ],
   "source": [
    "invitemt = (f\"{dinner[1]} I would cordially like to invite you to dinner\")\n",
    "print(invitemt)"
   ]
  },
  {
   "cell_type": "code",
   "execution_count": 31,
   "metadata": {},
   "outputs": [
    {
     "name": "stdout",
     "output_type": "stream",
     "text": [
      "Miles Teller I would cordially like to invite you to dinner and I found a bigger table\n"
     ]
    }
   ],
   "source": [
    "invitemtbig = (f\"{dinner[1]} I would cordially like to invite you to dinner and I found a bigger table\")\n",
    "print(invitemtbig)"
   ]
  },
  {
   "cell_type": "code",
   "execution_count": 37,
   "metadata": {},
   "outputs": [
    {
     "name": "stdout",
     "output_type": "stream",
     "text": [
      "['Al Ruddy', 'Al Ruddy', 'Al Ruddy', 'Al Ruddy', 'Al Ruddy', 'Rihanna', 'Miles Teller', 'Jane Goodall']\n"
     ]
    },
    {
     "ename": "ValueError",
     "evalue": "list.remove(x): x not in list",
     "output_type": "error",
     "traceback": [
      "\u001b[0;31m---------------------------------------------------------------------------\u001b[0m",
      "\u001b[0;31mValueError\u001b[0m                                Traceback (most recent call last)",
      "Cell \u001b[0;32mIn[37], line 4\u001b[0m\n\u001b[1;32m      1\u001b[0m dinner\u001b[39m.\u001b[39minsert(\u001b[39m0\u001b[39m, \u001b[39m'\u001b[39m\u001b[39mAl Ruddy\u001b[39m\u001b[39m'\u001b[39m)\n\u001b[1;32m      2\u001b[0m \u001b[39mprint\u001b[39m(dinner)\n\u001b[0;32m----> 4\u001b[0m dinner\u001b[39m.\u001b[39;49mremove([\u001b[39m0\u001b[39;49m])\n",
      "\u001b[0;31mValueError\u001b[0m: list.remove(x): x not in list"
     ]
    }
   ],
   "source": [
    "dinner.insert(0, 'Al Ruddy')\n",
    "print(dinner)"
   ]
  },
  {
   "cell_type": "code",
   "execution_count": 40,
   "metadata": {},
   "outputs": [
    {
     "name": "stdout",
     "output_type": "stream",
     "text": [
      "['Al Ruddy', 'Miles Teller', 'Jane Goodall']\n"
     ]
    }
   ],
   "source": [
    "del dinner[0]\n",
    "del dinner[1]\n",
    "\n",
    "print(dinner)"
   ]
  },
  {
   "cell_type": "code",
   "execution_count": 42,
   "metadata": {},
   "outputs": [
    {
     "name": "stdout",
     "output_type": "stream",
     "text": [
      "['Al Ruddy', 'Steve Carrel', 'Steve Carrel', 'Miles Teller', 'Jane Goodall']\n"
     ]
    }
   ],
   "source": [
    "dinner.insert(1, 'Steve Carrel')\n",
    "print(dinner)"
   ]
  },
  {
   "cell_type": "code",
   "execution_count": 43,
   "metadata": {},
   "outputs": [],
   "source": [
    "dinner.append('Jim Carry')"
   ]
  },
  {
   "cell_type": "code",
   "execution_count": 44,
   "metadata": {},
   "outputs": [
    {
     "name": "stdout",
     "output_type": "stream",
     "text": [
      "['Al Ruddy', 'Steve Carrel', 'Steve Carrel', 'Miles Teller', 'Jane Goodall', 'Jim Carry']\n"
     ]
    }
   ],
   "source": [
    "print(dinner)"
   ]
  },
  {
   "cell_type": "code",
   "execution_count": 45,
   "metadata": {},
   "outputs": [
    {
     "name": "stdout",
     "output_type": "stream",
     "text": [
      "Unfortunately I can only invite a few people to dinner\n"
     ]
    }
   ],
   "source": [
    "few = (f\"Unfortunately I can only invite a few people to dinner\")\n",
    "print(few)"
   ]
  },
  {
   "cell_type": "code",
   "execution_count": 46,
   "metadata": {},
   "outputs": [
    {
     "data": {
      "text/plain": [
       "'(Sadly you are no longer invited to dinner, Jim Carry)'"
      ]
     },
     "execution_count": 46,
     "metadata": {},
     "output_type": "execute_result"
    }
   ],
   "source": [
    "uninvite = dinner.pop()\n",
    "f\"(Sadly you are no longer invited to dinner, {uninvite})\""
   ]
  },
  {
   "cell_type": "code",
   "execution_count": 47,
   "metadata": {},
   "outputs": [
    {
     "name": "stdout",
     "output_type": "stream",
     "text": [
      "Jim Carry\n"
     ]
    }
   ],
   "source": [
    "print(uninvite)"
   ]
  },
  {
   "cell_type": "code",
   "execution_count": 48,
   "metadata": {},
   "outputs": [
    {
     "name": "stdout",
     "output_type": "stream",
     "text": [
      "['Al Ruddy', 'Steve Carrel', 'Steve Carrel', 'Miles Teller', 'Jane Goodall']\n"
     ]
    }
   ],
   "source": [
    "print(dinner)"
   ]
  },
  {
   "cell_type": "code",
   "execution_count": 50,
   "metadata": {},
   "outputs": [
    {
     "data": {
      "text/plain": [
       "'Sadly you are no longer invited to dinner, Steve Carrel'"
      ]
     },
     "execution_count": 50,
     "metadata": {},
     "output_type": "execute_result"
    }
   ],
   "source": [
    "uninvite = dinner.pop()\n",
    "f\"(Sadly you are no longer invited to dinner, {uninvite})\"\n",
    "\n",
    "uninvite = dinner.pop()\n",
    "f\"Sadly you are no longer invited to dinner, {uninvite}\""
   ]
  },
  {
   "cell_type": "code",
   "execution_count": 51,
   "metadata": {},
   "outputs": [
    {
     "name": "stdout",
     "output_type": "stream",
     "text": [
      "['Al Ruddy', 'Steve Carrel']\n"
     ]
    }
   ],
   "source": [
    "print(dinner)"
   ]
  },
  {
   "cell_type": "code",
   "execution_count": 52,
   "metadata": {},
   "outputs": [
    {
     "name": "stdout",
     "output_type": "stream",
     "text": [
      "Steve Carrel\n"
     ]
    }
   ],
   "source": [
    "print(uninvite)"
   ]
  },
  {
   "cell_type": "code",
   "execution_count": 53,
   "metadata": {},
   "outputs": [
    {
     "data": {
      "text/plain": [
       "'My deppest condolensces, but I cannot invite you to dinner, Steve Carrel'"
      ]
     },
     "execution_count": 53,
     "metadata": {},
     "output_type": "execute_result"
    }
   ],
   "source": [
    "f\"My deppest condolensces, but I cannot invite you to dinner, {uninvite}\""
   ]
  },
  {
   "cell_type": "code",
   "execution_count": 56,
   "metadata": {},
   "outputs": [
    {
     "ename": "IndexError",
     "evalue": "list assignment index out of range",
     "output_type": "error",
     "traceback": [
      "\u001b[0;31m---------------------------------------------------------------------------\u001b[0m",
      "\u001b[0;31mIndexError\u001b[0m                                Traceback (most recent call last)",
      "Cell \u001b[0;32mIn[56], line 1\u001b[0m\n\u001b[0;32m----> 1\u001b[0m \u001b[39mdel\u001b[39;00m dinner[\u001b[39m1\u001b[39;49m]\n\u001b[1;32m      2\u001b[0m \u001b[39mprint\u001b[39m(dinner)\n",
      "\u001b[0;31mIndexError\u001b[0m: list assignment index out of range"
     ]
    }
   ],
   "source": [
    "del dinner[1]\n"
   ]
  },
  {
   "cell_type": "code",
   "execution_count": 57,
   "metadata": {},
   "outputs": [
    {
     "name": "stdout",
     "output_type": "stream",
     "text": [
      "['Al Ruddy']\n"
     ]
    }
   ],
   "source": [
    "print(dinner)"
   ]
  },
  {
   "cell_type": "code",
   "execution_count": 58,
   "metadata": {},
   "outputs": [],
   "source": [
    "del dinner[0]"
   ]
  },
  {
   "cell_type": "code",
   "execution_count": 59,
   "metadata": {},
   "outputs": [
    {
     "name": "stdout",
     "output_type": "stream",
     "text": [
      "[]\n"
     ]
    }
   ],
   "source": [
    "print(dinner)"
   ]
  },
  {
   "cell_type": "markdown",
   "metadata": {},
   "source": [
    "Organizing a list\n",
    "\n",
    "Soemtimes the order of your list is unpredictable because you cant always control the order in which your users provide the data.\n",
    "\n",
    "Sorting a list permantently with the sort() Methods such as storing them alphabetically and assume all values in the list are lowercase"
   ]
  },
  {
   "cell_type": "code",
   "execution_count": 63,
   "metadata": {},
   "outputs": [
    {
     "name": "stdout",
     "output_type": "stream",
     "text": [
      "['audi', 'bmw', 'honda', 'toyota']\n"
     ]
    }
   ],
   "source": [
    "cars = ['bmw', 'honda', 'audi', 'toyota']\n",
    "cars.sort()\n",
    "print(cars) # we can never revert the order"
   ]
  },
  {
   "cell_type": "markdown",
   "metadata": {},
   "source": [
    "You can also reverse the order of the list by using the sorted function \n"
   ]
  },
  {
   "cell_type": "code",
   "execution_count": 66,
   "metadata": {},
   "outputs": [
    {
     "name": "stdout",
     "output_type": "stream",
     "text": [
      "['toyota', 'honda', 'bmw', 'audi']\n"
     ]
    }
   ],
   "source": [
    "cars.sort(reverse = True)\n",
    "print(cars)"
   ]
  },
  {
   "cell_type": "markdown",
   "metadata": {},
   "source": [
    "Sorting a lst temporarily, sorts it but doesnt change its original order"
   ]
  },
  {
   "cell_type": "code",
   "execution_count": 77,
   "metadata": {},
   "outputs": [],
   "source": [
    "cars = ['bmw', 'honda', 'audi', 'toyota']"
   ]
  },
  {
   "cell_type": "code",
   "execution_count": 78,
   "metadata": {},
   "outputs": [
    {
     "name": "stdout",
     "output_type": "stream",
     "text": [
      "Here is the original list:\n",
      "['bmw', 'honda', 'audi', 'toyota']\n",
      "\n",
      "Here is the sorted list:\n",
      "['audi', 'bmw', 'honda', 'toyota']\n",
      "\n",
      "Here is the original list again:\n",
      "['bmw', 'honda', 'audi', 'toyota']\n"
     ]
    }
   ],
   "source": [
    "print(\"Here is the original list:\")\n",
    "print(cars)\n",
    "\n",
    "print(\"\\nHere is the sorted list:\")\n",
    "print(sorted(cars))\n",
    "\n",
    "print(\"\\nHere is the original list again:\")\n",
    "print(cars)\n",
    "\n",
    "# This can be difficult if all the values arent the same case"
   ]
  },
  {
   "cell_type": "markdown",
   "metadata": {},
   "source": [
    "Printing a list in reverse order: \n",
    "You can use reverse() method which changes the list order of the list permanently "
   ]
  },
  {
   "cell_type": "code",
   "execution_count": 79,
   "metadata": {},
   "outputs": [
    {
     "name": "stdout",
     "output_type": "stream",
     "text": [
      "['bmw', 'honda', 'audi', 'toyota']\n",
      "['toyota', 'audi', 'honda', 'bmw']\n"
     ]
    }
   ],
   "source": [
    "print(cars)\n",
    "cars.reverse()\n",
    "print(cars)\n"
   ]
  },
  {
   "cell_type": "markdown",
   "metadata": {},
   "source": [
    "Finding the length of a list: you can find the length of the list by using len()"
   ]
  },
  {
   "cell_type": "code",
   "execution_count": 80,
   "metadata": {},
   "outputs": [
    {
     "data": {
      "text/plain": [
       "4"
      ]
     },
     "execution_count": 80,
     "metadata": {},
     "output_type": "execute_result"
    }
   ],
   "source": [
    "len(cars)"
   ]
  },
  {
   "cell_type": "code",
   "execution_count": 95,
   "metadata": {},
   "outputs": [],
   "source": [
    "dreams = ['australia', 'bali', 'south africa', 'new zealand', 'nepal']"
   ]
  },
  {
   "cell_type": "code",
   "execution_count": 96,
   "metadata": {},
   "outputs": [
    {
     "data": {
      "text/plain": [
       "['australia', 'bali', 'nepal', 'new zealand', 'south africa']"
      ]
     },
     "execution_count": 96,
     "metadata": {},
     "output_type": "execute_result"
    }
   ],
   "source": [
    "sorted(dreams)"
   ]
  },
  {
   "cell_type": "code",
   "execution_count": 86,
   "metadata": {},
   "outputs": [
    {
     "name": "stdout",
     "output_type": "stream",
     "text": [
      "['australia', 'bali', 'south africa', 'new zealand', 'nepal']\n"
     ]
    }
   ],
   "source": [
    "print(dreams)"
   ]
  },
  {
   "cell_type": "code",
   "execution_count": 97,
   "metadata": {},
   "outputs": [
    {
     "name": "stdout",
     "output_type": "stream",
     "text": [
      "['nepal', 'new zealand', 'south africa', 'bali', 'australia']\n"
     ]
    }
   ],
   "source": [
    "dreams.reverse()\n",
    "print(dreams)"
   ]
  },
  {
   "cell_type": "code",
   "execution_count": 98,
   "metadata": {},
   "outputs": [
    {
     "name": "stdout",
     "output_type": "stream",
     "text": [
      "['nepal', 'new zealand', 'south africa', 'bali', 'australia']\n"
     ]
    }
   ],
   "source": [
    "print(dreams)"
   ]
  },
  {
   "cell_type": "code",
   "execution_count": 89,
   "metadata": {},
   "outputs": [
    {
     "name": "stdout",
     "output_type": "stream",
     "text": [
      "['south africa', 'new zealand', 'nepal', 'bali', 'australia']\n"
     ]
    }
   ],
   "source": [
    "dreams.sort(reverse = True)\n",
    "print(dreams)"
   ]
  },
  {
   "cell_type": "code",
   "execution_count": 100,
   "metadata": {},
   "outputs": [
    {
     "data": {
      "text/plain": [
       "['australia', 'bali', 'nepal', 'new zealand', 'south africa']"
      ]
     },
     "execution_count": 100,
     "metadata": {},
     "output_type": "execute_result"
    }
   ],
   "source": [
    "dreams.sort()\n",
    "dreams"
   ]
  },
  {
   "cell_type": "code",
   "execution_count": 101,
   "metadata": {},
   "outputs": [
    {
     "data": {
      "text/plain": [
       "'I am now inviting 0 to dinner'"
      ]
     },
     "execution_count": 101,
     "metadata": {},
     "output_type": "execute_result"
    }
   ],
   "source": [
    "f\"I am now inviting {len(dinner)} to dinner\""
   ]
  },
  {
   "cell_type": "code",
   "execution_count": 106,
   "metadata": {},
   "outputs": [
    {
     "data": {
      "text/plain": [
       "\"I speak 5 languages, ['spanish', 'english', 'korean', 'french', 'german']\""
      ]
     },
     "execution_count": 106,
     "metadata": {},
     "output_type": "execute_result"
    }
   ],
   "source": [
    "languages = ['spanish', 'english', 'korean', 'french', 'german']\n",
    "f\"I speak {len(languages)} languages, {languages}\"\n"
   ]
  },
  {
   "cell_type": "code",
   "execution_count": 108,
   "metadata": {},
   "outputs": [
    {
     "ename": "TypeError",
     "evalue": "list.append() takes exactly one argument (0 given)",
     "output_type": "error",
     "traceback": [
      "\u001b[0;31m---------------------------------------------------------------------------\u001b[0m",
      "\u001b[0;31mTypeError\u001b[0m                                 Traceback (most recent call last)",
      "Cell \u001b[0;32mIn[108], line 3\u001b[0m\n\u001b[1;32m      1\u001b[0m \u001b[39mf\u001b[39m\u001b[39m\"\u001b[39m\u001b[39mthe language I most recently learned is \u001b[39m\u001b[39m{\u001b[39;00mlanguages\u001b[39m.\u001b[39mpop()\u001b[39m}\u001b[39;00m\u001b[39m\"\u001b[39m\n\u001b[0;32m----> 3\u001b[0m \u001b[39mf\u001b[39m\u001b[39m\"\u001b[39m\u001b[39mbut I know longer speak \u001b[39m\u001b[39m{\u001b[39;00mlanguages\u001b[39m.\u001b[39;49mappend()\u001b[39m}\u001b[39;00m\u001b[39m\"\u001b[39m\n",
      "\u001b[0;31mTypeError\u001b[0m: list.append() takes exactly one argument (0 given)"
     ]
    }
   ],
   "source": [
    "f\"the language I most recently learned is {languages.pop()}\""
   ]
  },
  {
   "cell_type": "code",
   "execution_count": 112,
   "metadata": {},
   "outputs": [
    {
     "data": {
      "text/plain": [
       "['spanish',\n",
       " 'spanish',\n",
       " 'spanish',\n",
       " 'korean',\n",
       " 'english',\n",
       " 'Vietnamese',\n",
       " 'Vietnamese',\n",
       " 'Vietnamese']"
      ]
     },
     "execution_count": 112,
     "metadata": {},
     "output_type": "execute_result"
    }
   ],
   "source": [
    "languages.sort(reverse= True)\n",
    "languages.append('Vietnamese')\n",
    "languages.insert(2, 'spanish')\n",
    "\n",
    "languages"
   ]
  },
  {
   "cell_type": "code",
   "execution_count": null,
   "metadata": {},
   "outputs": [],
   "source": []
  }
 ],
 "metadata": {
  "kernelspec": {
   "display_name": "Python 3",
   "language": "python",
   "name": "python3"
  },
  "language_info": {
   "codemirror_mode": {
    "name": "ipython",
    "version": 3
   },
   "file_extension": ".py",
   "mimetype": "text/x-python",
   "name": "python",
   "nbconvert_exporter": "python",
   "pygments_lexer": "ipython3",
   "version": "3.11.4"
  },
  "orig_nbformat": 4
 },
 "nbformat": 4,
 "nbformat_minor": 2
}
