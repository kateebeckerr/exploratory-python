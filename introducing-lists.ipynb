{
 "cells": [
  {
   "cell_type": "markdown",
   "metadata": {},
   "source": [
    "Introducing Lists \n",
    "\n",
    "Lists: allow you store sets of information in one place, a collection of items in a particular order, and you can make a list that includes the letters of the alphabet, the digits from 0 to 9 or the names of all the people in your family, ususally ocntains more tha none element and a good idea to make the name of your list plural such as letters, digists, or names"
   ]
  },
  {
   "cell_type": "code",
   "execution_count": 2,
   "metadata": {},
   "outputs": [
    {
     "name": "stdout",
     "output_type": "stream",
     "text": [
      "['trek', 'cannondale', 'redline', 'specialzied']\n"
     ]
    }
   ],
   "source": [
    "bicycles = ['trek', 'cannondale', 'redline', 'specialzied']\n",
    "print(bicycles)"
   ]
  },
  {
   "cell_type": "markdown",
   "metadata": {},
   "source": [
    "Accessing Elements in a List"
   ]
  },
  {
   "cell_type": "code",
   "execution_count": 3,
   "metadata": {},
   "outputs": [
    {
     "name": "stdout",
     "output_type": "stream",
     "text": [
      "trek\n"
     ]
    }
   ],
   "source": [
    "print(bicycles[0])\n"
   ]
  },
  {
   "cell_type": "code",
   "execution_count": 4,
   "metadata": {},
   "outputs": [
    {
     "name": "stdout",
     "output_type": "stream",
     "text": [
      "Trek\n"
     ]
    }
   ],
   "source": [
    "print(bicycles[0].title())"
   ]
  },
  {
   "cell_type": "markdown",
   "metadata": {},
   "source": [
    "Index Position stars at 0 not 1, first item is 0, and second is 1, so for the third item you want 2"
   ]
  },
  {
   "cell_type": "code",
   "execution_count": 5,
   "metadata": {},
   "outputs": [
    {
     "name": "stdout",
     "output_type": "stream",
     "text": [
      "cannondale\n",
      "specialzied\n"
     ]
    }
   ],
   "source": [
    "print(bicycles[1])\n",
    "print(bicycles[3])"
   ]
  },
  {
   "cell_type": "code",
   "execution_count": 6,
   "metadata": {},
   "outputs": [
    {
     "name": "stdout",
     "output_type": "stream",
     "text": [
      "specialzied\n"
     ]
    }
   ],
   "source": [
    "print(bicycles[-1]) #prints the last item in a list, -2 returns secod item from the end of the list etc.... "
   ]
  },
  {
   "cell_type": "markdown",
   "metadata": {},
   "source": [
    "Using Individaul Values from a List"
   ]
  },
  {
   "cell_type": "code",
   "execution_count": 7,
   "metadata": {},
   "outputs": [
    {
     "name": "stdout",
     "output_type": "stream",
     "text": [
      "My first bicycle was a Trek.\n"
     ]
    }
   ],
   "source": [
    "message = f\"My first bicycle was a {bicycles[0].title()}.\"\n",
    "print(message)"
   ]
  },
  {
   "cell_type": "markdown",
   "metadata": {},
   "source": [
    "Practice"
   ]
  },
  {
   "cell_type": "code",
   "execution_count": 8,
   "metadata": {},
   "outputs": [
    {
     "name": "stdout",
     "output_type": "stream",
     "text": [
      "Kayla\n",
      "Dan\n"
     ]
    }
   ],
   "source": [
    "names = ['laur', 'kayla', 'emma', 'gab', 'dan']\n",
    "\n",
    "print(names[1].title())\n",
    "print(names[-1].title())"
   ]
  },
  {
   "cell_type": "code",
   "execution_count": 9,
   "metadata": {},
   "outputs": [
    {
     "name": "stdout",
     "output_type": "stream",
     "text": [
      "My cousin Emma has always been there for me\n"
     ]
    }
   ],
   "source": [
    "love = f\"My cousin {names[2].title()} has always been there for me\"\n",
    "print(love)"
   ]
  },
  {
   "cell_type": "code",
   "execution_count": 10,
   "metadata": {},
   "outputs": [],
   "source": [
    "locations = ['colorado', 'new york', 'wyoming', 'la', 'sf']"
   ]
  },
  {
   "cell_type": "code",
   "execution_count": 11,
   "metadata": {},
   "outputs": [],
   "source": [
    "message = f\"My friend {names[1].title()} lives in {locations[1].title()}\""
   ]
  },
  {
   "cell_type": "code",
   "execution_count": 12,
   "metadata": {},
   "outputs": [
    {
     "name": "stdout",
     "output_type": "stream",
     "text": [
      "My friend Kayla lives in New York\n"
     ]
    }
   ],
   "source": [
    "print(message)"
   ]
  },
  {
   "cell_type": "markdown",
   "metadata": {},
   "source": [
    "Changing,Adding, and Removing Elements\n",
    "\n",
    "ex: building a list and adding/removing elements from it as your program runs such as creating a game in which a player has to shoot alients out of the sky, you could store the intial set of aliens in a list and then remove an alien from the list each time one is show down "
   ]
  },
  {
   "cell_type": "markdown",
   "metadata": {},
   "source": [
    "Modifying Elements in a list:\n",
    "the syntax for modfying an element is similar to the syntax for accessing an element in a list, to change an element use the name of the list followed by the index of the element you want to change, and then provide the new value you want that item to have"
   ]
  },
  {
   "cell_type": "code",
   "execution_count": 13,
   "metadata": {},
   "outputs": [
    {
     "name": "stdout",
     "output_type": "stream",
     "text": [
      "['honda', 'yamaha', 'suzuki']\n"
     ]
    }
   ],
   "source": [
    "motorcycles = ['honda', 'yamaha', 'suzuki']\n",
    "print(motorcycles)"
   ]
  },
  {
   "cell_type": "code",
   "execution_count": 14,
   "metadata": {},
   "outputs": [
    {
     "name": "stdout",
     "output_type": "stream",
     "text": [
      "['honda', 'ducati', 'suzuki']\n"
     ]
    }
   ],
   "source": [
    "motorcycles[1]= 'ducati'\n",
    "print(motorcycles)"
   ]
  },
  {
   "cell_type": "markdown",
   "metadata": {},
   "source": [
    "Adding Elements to a list"
   ]
  },
  {
   "cell_type": "markdown",
   "metadata": {},
   "source": [
    "Appending Elements to the End of a List: when you append an element its added at the end without affecting other elements"
   ]
  },
  {
   "cell_type": "code",
   "execution_count": 15,
   "metadata": {},
   "outputs": [
    {
     "name": "stdout",
     "output_type": "stream",
     "text": [
      "['honda', 'ducati', 'suzuki', 'ducati']\n"
     ]
    }
   ],
   "source": [
    "motorcycles.append('ducati')\n",
    "print(motorcycles)"
   ]
  },
  {
   "cell_type": "code",
   "execution_count": 19,
   "metadata": {},
   "outputs": [
    {
     "name": "stdout",
     "output_type": "stream",
     "text": [
      "['honda', 'suzuki', 'becker']\n"
     ]
    }
   ],
   "source": [
    "motorcycle = []\n",
    "motorcycle.append('honda')\n",
    "motorcycle.append('suzuki')\n",
    "motorcycle.append('becker')\n",
    "print(motorcycle)"
   ]
  },
  {
   "cell_type": "markdown",
   "metadata": {},
   "source": [
    "Inserting Elements into a List: you can add a new element at any position in your list by using insert() by specifying the index of the new element and the value of the new element "
   ]
  },
  {
   "cell_type": "code",
   "execution_count": 22,
   "metadata": {},
   "outputs": [
    {
     "name": "stdout",
     "output_type": "stream",
     "text": [
      "['kate', 'honda', 'suzuki', 'becker']\n"
     ]
    }
   ],
   "source": [
    "motorcycle.insert(0, 'kate')\n",
    "print(motorcycle)"
   ]
  },
  {
   "cell_type": "code",
   "execution_count": 25,
   "metadata": {},
   "outputs": [
    {
     "name": "stdout",
     "output_type": "stream",
     "text": [
      "['kate', 'honda', 'suzuki', 'anna', 'anna', 'anna', 'becker']\n"
     ]
    }
   ],
   "source": [
    "motorcycle.insert(3, 'anna')\n",
    "print(motorcycle) # the more you run it the more it adds anna  "
   ]
  },
  {
   "cell_type": "markdown",
   "metadata": {},
   "source": [
    "Removing elements from a list: a player shoots down an alien so you want to remove it from a list\n",
    "\n",
    "Removing an item using the del statement: if you know the positiono "
   ]
  },
  {
   "cell_type": "code",
   "execution_count": 26,
   "metadata": {},
   "outputs": [
    {
     "name": "stdout",
     "output_type": "stream",
     "text": [
      "['kate', 'suzuki', 'anna', 'anna', 'anna', 'becker']\n"
     ]
    }
   ],
   "source": [
    "del motorcycle[1]\n",
    "print(motorcycle)"
   ]
  },
  {
   "cell_type": "markdown",
   "metadata": {},
   "source": [
    "Removing an item using the pop() method: sometimes you want to use the value of an item after you remove it from the list\n",
    "\n",
    "ex: want to get x and y position of an alien that was shot down you want an x and y value to create an explosion, removing a user from an a member list and add it to a inactive member list\n",
    "\n",
    "pop() removes the last item in the list but lets you work with the item after removing it, popping one itemm off a list mmoves it to the end of a list "
   ]
  },
  {
   "cell_type": "code",
   "execution_count": 29,
   "metadata": {},
   "outputs": [
    {
     "name": "stdout",
     "output_type": "stream",
     "text": [
      "['kate', 'suzuki', 'anna', 'anna', 'anna']\n",
      "anna\n"
     ]
    }
   ],
   "source": [
    "print(motorcycle)\n",
    "\n",
    "popped_motorcycles = motorcycle.pop()\n",
    "print(popped_motorcycles)\n",
    "# anna was remoed from end of the list and placed in another "
   ]
  },
  {
   "cell_type": "markdown",
   "metadata": {},
   "source": [
    "Could be useful to print a statement about the last motocycle we bought "
   ]
  },
  {
   "cell_type": "code",
   "execution_count": 33,
   "metadata": {},
   "outputs": [
    {
     "name": "stdout",
     "output_type": "stream",
     "text": [
      "The last motorcycle I owned was a Suzuki\n"
     ]
    }
   ],
   "source": [
    "last_owned = motorcycle.pop()\n",
    "print(f\"The last motorcycle I owned was a {last_owned.title()}\")"
   ]
  },
  {
   "cell_type": "markdown",
   "metadata": {},
   "source": [
    "Popping items from any position in a list byb including the index of the item "
   ]
  },
  {
   "cell_type": "code",
   "execution_count": 36,
   "metadata": {},
   "outputs": [
    {
     "ename": "IndexError",
     "evalue": "pop from empty list",
     "output_type": "error",
     "traceback": [
      "\u001b[0;31m---------------------------------------------------------------------------\u001b[0m",
      "\u001b[0;31mIndexError\u001b[0m                                Traceback (most recent call last)",
      "Cell \u001b[0;32mIn[36], line 1\u001b[0m\n\u001b[0;32m----> 1\u001b[0m first_owned \u001b[39m=\u001b[39m motorcycle\u001b[39m.\u001b[39;49mpop(\u001b[39m0\u001b[39;49m)\n\u001b[1;32m      2\u001b[0m \u001b[39mprint\u001b[39m(\u001b[39mf\u001b[39m\u001b[39m\"\u001b[39m\u001b[39mThe last motorcycle I ownded was a \u001b[39m\u001b[39m{\u001b[39;00mfirst_owned\u001b[39m.\u001b[39mtitle()\u001b[39m}\u001b[39;00m\u001b[39m\"\u001b[39m)\n\u001b[1;32m      3\u001b[0m \u001b[39m# each time you use a pop it is no longer in that list\u001b[39;00m\n",
      "\u001b[0;31mIndexError\u001b[0m: pop from empty list"
     ]
    }
   ],
   "source": [
    "first_owned = motorcycle.pop(0)\n",
    "print(f\"The last motorcycle I ownded was a {first_owned.title()}\")\n",
    "#each time you use a pop it is no longer in that list"
   ]
  },
  {
   "cell_type": "markdown",
   "metadata": {},
   "source": [
    "If you want to delete an item from a list and not use the item you use del, but if you want to use an item as you remoive it you use pop()"
   ]
  },
  {
   "cell_type": "markdown",
   "metadata": {},
   "source": [
    "Removing an item by a value use remove()"
   ]
  },
  {
   "cell_type": "code",
   "execution_count": 38,
   "metadata": {},
   "outputs": [
    {
     "name": "stdout",
     "output_type": "stream",
     "text": [
      "['suzuki', 'honda']\n"
     ]
    }
   ],
   "source": [
    "motorcycles = ['ducati', 'suzuki', 'honda']\n",
    "motorcycles.remove('ducati')\n",
    "print(motorcycles)"
   ]
  },
  {
   "cell_type": "code",
   "execution_count": 44,
   "metadata": {},
   "outputs": [
    {
     "name": "stdout",
     "output_type": "stream",
     "text": [
      "[]\n",
      "\n",
      "A Suzuki is too expensive for me\n"
     ]
    }
   ],
   "source": [
    "too_expensive = 'suzuki'\n",
    "motorcycles.remove(too_expensive)\n",
    "print(motorcycles)\n",
    "print(f\"\\nA {too_expensive.title()} is too expensive for me\")"
   ]
  },
  {
   "cell_type": "markdown",
   "metadata": {},
   "source": [
    "*The remove() method deletes only the first occurence of the value you specify, if the value appears more than once youll need to use a loop to make sure all occurences of the value are removed \n",
    "\n",
    "Practice"
   ]
  },
  {
   "cell_type": "code",
   "execution_count": 59,
   "metadata": {},
   "outputs": [
    {
     "name": "stdout",
     "output_type": "stream",
     "text": [
      "['Rihanna', 'Jaque Gusto', 'Jane Goodall']\n",
      "Rihanna you are cordially invited to dinner\n",
      "Jaque Gusto you are cordially invited to dinner\n",
      "Jane Goodall you are cordially invited to dinner\n"
     ]
    }
   ],
   "source": [
    "dinner = ['Rihanna', 'Jaque Gusto', 'Jane Goodall']\n",
    "print(dinner)\n",
    "\n",
    "invite = (f\"{dinner[0].title()} you are cordially invited to dinner\")\n",
    "print(invite)\n",
    "\n",
    "invitejq = (f\"{dinner[1].title()} you are cordially invited to dinner\")\n",
    "print(invitejq)\n",
    "\n",
    "invitejg = (f\"{dinner[2].title()} you are cordially invited to dinner\")\n",
    "print(invitejg)"
   ]
  },
  {
   "cell_type": "markdown",
   "metadata": {},
   "source": [
    "3.5 Changing guest list "
   ]
  },
  {
   "cell_type": "code",
   "execution_count": null,
   "metadata": {},
   "outputs": [],
   "source": []
  }
 ],
 "metadata": {
  "kernelspec": {
   "display_name": "Python 3",
   "language": "python",
   "name": "python3"
  },
  "language_info": {
   "codemirror_mode": {
    "name": "ipython",
    "version": 3
   },
   "file_extension": ".py",
   "mimetype": "text/x-python",
   "name": "python",
   "nbconvert_exporter": "python",
   "pygments_lexer": "ipython3",
   "version": "3.11.4"
  },
  "orig_nbformat": 4
 },
 "nbformat": 4,
 "nbformat_minor": 2
}
